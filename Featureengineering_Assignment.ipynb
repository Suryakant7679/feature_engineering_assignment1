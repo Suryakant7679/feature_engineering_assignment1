{
 "cells": [
  {
   "cell_type": "markdown",
   "id": "d5ad711f-3c4f-402e-87b7-907f3c7745b5",
   "metadata": {},
   "source": [
    "Q1. What is the Filter method in feature selection, and how does it work?"
   ]
  },
  {
   "cell_type": "markdown",
   "id": "31758ec1-c947-45df-9fd7-ede546b69da8",
   "metadata": {},
   "source": [
    "Ans:- In this method, features are filtered based on general characteristics (some metric such as correlation) of the dataset such correlation with the dependent variable. Filter method is performed without any predictive model. It is faster and usually the better approach when the number of features are huge."
   ]
  },
  {
   "cell_type": "markdown",
   "id": "b89380eb-b061-41c4-8be8-b342542c988d",
   "metadata": {},
   "source": [
    "Q2. How does the Wrapper method differ from the Filter method in feature selection?"
   ]
  },
  {
   "cell_type": "markdown",
   "id": "d867ccca-e86c-49b4-b0bb-70af3672ca1c",
   "metadata": {},
   "source": [
    "Ans:- The main differences between the filter and wrapper methods for feature selection are: Filter methods measure the relevance of features by their correlation with dependent variable while wrapper methods measure the usefulness of a subset of feature by actually training a model on it."
   ]
  },
  {
   "cell_type": "markdown",
   "id": "2062e6df-1762-471d-b29a-6974d9cb094d",
   "metadata": {},
   "source": [
    "Ans:- Q3. What are some common techniques used in Embedded feature selection methods?"
   ]
  },
  {
   "cell_type": "markdown",
   "id": "e1622335-829e-49ab-b2d9-fc53d21b1545",
   "metadata": {},
   "source": [
    "Ans:- Some techniques used are: Regularization – This method adds a penalty to different parameters of the machine learning model to avoid over-fitting of the model. This approach of feature selection uses Lasso (L1 regularization) and Elastic nets (L1 and L2 regularization)."
   ]
  },
  {
   "cell_type": "markdown",
   "id": "b783ddc4-cedc-425a-9b87-95789efe6015",
   "metadata": {},
   "source": [
    "Q4. What are some drawbacks of using the Filter method for feature selection?"
   ]
  },
  {
   "cell_type": "markdown",
   "id": "3b6ca3e0-a08d-4380-a1d4-fd98e10028b6",
   "metadata": {},
   "source": [
    "Ans:- One downside of such methods is that they do not interact with the predictive model for feature selection. Another disadvantage is seen in the case of univariate filter methods where dependencies between features are normally ignored "
   ]
  },
  {
   "cell_type": "markdown",
   "id": "2c08c27c-8e3b-4536-af32-03f3b5000e98",
   "metadata": {},
   "source": [
    "Q5. In which situations would you prefer using the Filter method over the Wrapper method for feature\r\n",
    "selection?"
   ]
  },
  {
   "cell_type": "markdown",
   "id": "04417755-ed80-497c-87f3-61f7db924f11",
   "metadata": {},
   "source": [
    "Ans:- For large data you should use the Filter approaches because these approaches are rapid and for small size of data it is better to use Wrapper (KNN, SVM,...) approaches because they are slower than the Filter approaches. or you can combine the two approaches to have better results than the two approaches.15-Nov-2015"
   ]
  },
  {
   "cell_type": "markdown",
   "id": "520df05c-253d-4767-8de5-e91521a18540",
   "metadata": {},
   "source": [
    "Q6. In a telecom company, you are working on a project to develop a predictive model for customer churn.\n",
    "You are unsure of which features to include in the model because the dataset contains several different\n",
    "ones. Describe how you would choose the most pertinent attributes for the model using the Filter Method."
   ]
  },
  {
   "cell_type": "markdown",
   "id": "543b89c6-016d-42f7-a1f4-e330adba75b1",
   "metadata": {},
   "source": [
    "Ans:- I will choose that attribute which will bw most suitable for my model,The model will pridict most accurate result based on that features and attributes , Using filter method we can  filter out the attribute based on the model from data set present. \n",
    "\n",
    "features are selected on the basis of statistics measures. This method does not depend on the learning algorithm and chooses the features as a pre-processing step. The filter method filters out the irrelevant feature and redundant columns from the model by using different metrics through ranking."
   ]
  },
  {
   "cell_type": "markdown",
   "id": "eeda97a5-11c5-487d-8915-4810bb300527",
   "metadata": {},
   "source": [
    "Q7. You are working on a project to predict the outcome of a soccer match. You have a large dataset with\n",
    "many features, including player statistics and team rankings. Explain how you would use the Embedded\n",
    "method to select the most relevant features for the model."
   ]
  },
  {
   "cell_type": "markdown",
   "id": "e06c67d9-126d-42a6-ba67-5bae75096c87",
   "metadata": {},
   "source": [
    "Ans:- Select features by learning their importance during model training.For example- Lasso Regression, Ridge Regression, and Random Forest. – Dimensionality Reduction Techniques: Reduce the dimensionality of the dataset and select the most important features."
   ]
  },
  {
   "cell_type": "markdown",
   "id": "85a72f36-5346-43e0-b8b5-e8ea05711a3c",
   "metadata": {},
   "source": [
    "Q8. You are working on a project to predict the price of a house based on its features, such as size, location,\n",
    "and age. You have a limited number of features, and you want to ensure that you select the most important\n",
    "ones for the model. Explain how you would use the Wrapper method to select the best set of features for the\n",
    "predictor."
   ]
  },
  {
   "cell_type": "markdown",
   "id": "08db94da-fd30-4138-a8e8-6195dba33ed8",
   "metadata": {},
   "source": [
    "Ans:- selection of features is done by considering it as a search problem, in which different combinations are made, evaluated, and compared with other combinations. It trains the algorithm by using the subset of features iteratively."
   ]
  },
  {
   "cell_type": "code",
   "execution_count": null,
   "id": "fb33bd69-582f-423c-a25e-394824a86f5d",
   "metadata": {},
   "outputs": [],
   "source": []
  }
 ],
 "metadata": {
  "kernelspec": {
   "display_name": "Python 3 (ipykernel)",
   "language": "python",
   "name": "python3"
  },
  "language_info": {
   "codemirror_mode": {
    "name": "ipython",
    "version": 3
   },
   "file_extension": ".py",
   "mimetype": "text/x-python",
   "name": "python",
   "nbconvert_exporter": "python",
   "pygments_lexer": "ipython3",
   "version": "3.10.0"
  }
 },
 "nbformat": 4,
 "nbformat_minor": 5
}
